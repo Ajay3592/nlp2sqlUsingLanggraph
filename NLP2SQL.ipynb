{
  "cells": [
    {
      "cell_type": "code",
      "execution_count": 1,
      "metadata": {
        "id": "pf3EAE3GVhKn"
      },
      "outputs": [],
      "source": [
        "import sqlite3\n",
        "\n",
        "# Connect to SQLite database (creates 'shop.db' if it doesn't exist)\n",
        "conn = sqlite3.connect('shop.db')\n",
        "cursor = conn.cursor()\n",
        "\n",
        "# Create tables\n",
        "cursor.executescript('''\n",
        "CREATE TABLE IF NOT EXISTS users (\n",
        "    id INTEGER PRIMARY KEY AUTOINCREMENT,\n",
        "    name TEXT NOT NULL,\n",
        "    email TEXT UNIQUE NOT NULL\n",
        ");\n",
        "\n",
        "CREATE TABLE IF NOT EXISTS products (\n",
        "    id INTEGER PRIMARY KEY AUTOINCREMENT,\n",
        "    name TEXT NOT NULL,\n",
        "    price REAL NOT NULL\n",
        ");\n",
        "\n",
        "CREATE TABLE IF NOT EXISTS orders (\n",
        "    id INTEGER PRIMARY KEY AUTOINCREMENT,\n",
        "    user_id INTEGER NOT NULL,\n",
        "    product_id INTEGER NOT NULL,\n",
        "    quantity INTEGER NOT NULL,\n",
        "    total REAL NOT NULL,\n",
        "    order_date TEXT NOT NULL,\n",
        "    FOREIGN KEY (user_id) REFERENCES users(id),\n",
        "    FOREIGN KEY (product_id) REFERENCES products(id)\n",
        ");\n",
        "''')\n",
        "\n",
        "# Insert sample data\n",
        "cursor.executemany('INSERT INTO users (name, email) VALUES (?, ?)', [\n",
        "    ('Ajay Babu', 'ajay@gmail.com'),\n",
        "    ('Pradeep Kumar', 'Pradeep@gmail.com')\n",
        "])\n",
        "\n",
        "cursor.executemany('INSERT INTO products (name, price) VALUES (?, ?)', [\n",
        "    ('Laptop', 75000.00),\n",
        "    ('Phone', 30000.00)\n",
        "])\n",
        "\n",
        "cursor.executemany('INSERT INTO orders (user_id, product_id, quantity, total, order_date) VALUES (?, ?, ?, ?, ?)', [\n",
        "    (1, 1001, 5, 75000.00, '2025-08-18'),\n",
        "    (2, 1002, 8, 60000.00, '2025-08-19')\n",
        "])\n",
        "\n",
        "# Commit changes and close connection\n",
        "conn.commit()\n",
        "conn.close()\n"
      ]
    },
    {
      "cell_type": "code",
      "execution_count": null,
      "metadata": {
        "colab": {
          "base_uri": "https://localhost:8080/"
        },
        "id": "I9jwKjFFUiie",
        "outputId": "e7c160de-3c36-4149-8337-afc62bd92db7"
      },
      "outputs": [
        {
          "name": "stdout",
          "output_type": "stream",
          "text": [
            "(1, 1, 1, 1, 75000.0, '2025-08-18')\n",
            "(2, 2, 2, 2, 60000.0, '2025-08-19')\n"
          ]
        }
      ],
      "source": [
        "# Query the shop.db\n",
        "conn = sqlite3.connect('shop.db')\n",
        "cursor = conn.cursor()\n",
        "for row in cursor.execute('SELECT * FROM orders'):\n",
        "    print(row)\n",
        "conn.close()"
      ]
    },
    {
      "cell_type": "code",
      "execution_count": null,
      "metadata": {
        "colab": {
          "base_uri": "https://localhost:8080/",
          "height": 1000
        },
        "collapsed": true,
        "id": "yioQIjkdU7yB",
        "outputId": "e8d83c58-9b70-4331-e125-c66bd7314ca4"
      },
      "outputs": [],
      "source": [
        "#!pip install langchain_community\n",
        "#!pip install -U langchain-google-genai\n",
        "#!pip install langgraph.prebuilt\n",
        "#!pip install langgraph"
      ]
    },
    {
      "cell_type": "code",
      "execution_count": null,
      "metadata": {
        "id": "HU4G307fUymT"
      },
      "outputs": [],
      "source": [
        "import sqlite3\n",
        "from langchain_community.utilities import SQLDatabase\n",
        "from langgraph.prebuilt import ToolNode\n",
        "from langchain_community.agent_toolkits import SQLDatabaseToolkit\n",
        "from langgraph.prebuilt import create_react_agent\n",
        "from langchain_google_genai import ChatGoogleGenerativeAI"
      ]
    },
    {
      "cell_type": "code",
      "execution_count": null,
      "metadata": {
        "id": "f0OtbJSyWf6M"
      },
      "outputs": [],
      "source": [
        "GEMENI_API_KEY = ''"
      ]
    },
    {
      "cell_type": "code",
      "execution_count": 4,
      "metadata": {
        "id": "bnZfDUfdVRFJ"
      },
      "outputs": [],
      "source": [
        "llm = ChatGoogleGenerativeAI(model=\"gemini-2.0-flash\", google_api_key=GEMENI_API_KEY)\n",
        "db = SQLDatabase.from_uri(\"sqlite:///shop.db\")"
      ]
    },
    {
      "cell_type": "code",
      "execution_count": null,
      "metadata": {
        "colab": {
          "base_uri": "https://localhost:8080/"
        },
        "id": "0Fu6vqUxXYeI",
        "outputId": "f5637094-7242-41ba-94b3-0bfe23863f00"
      },
      "outputs": [
        {
          "name": "stdout",
          "output_type": "stream",
          "text": [
            "sql_db_query: Input to this tool is a detailed and correct SQL query, output is a result from the database. If the query is not correct, an error message will be returned. If an error is returned, rewrite the query, check the query, and try again. If you encounter an issue with Unknown column 'xxxx' in 'field list', use sql_db_schema to query the correct table fields.\n",
            "\n",
            "sql_db_schema: Input to this tool is a comma-separated list of tables, output is the schema and sample rows for those tables. Be sure that the tables actually exist by calling sql_db_list_tables first! Example Input: table1, table2, table3\n",
            "\n",
            "sql_db_list_tables: Input is an empty string, output is a comma-separated list of tables in the database.\n",
            "\n",
            "sql_db_query_checker: Use this tool to double check if your query is correct before executing it. Always use this tool before executing a query with sql_db_query!\n",
            "\n"
          ]
        }
      ],
      "source": [
        "toolkit = SQLDatabaseToolkit(db=db, llm=llm)\n",
        "\n",
        "tools = toolkit.get_tools()\n",
        "\n",
        "for tool in tools:\n",
        "    print(f\"{tool.name}: {tool.description}\\n\")"
      ]
    },
    {
      "cell_type": "code",
      "execution_count": null,
      "metadata": {
        "id": "sC1ykOw5YaVS"
      },
      "outputs": [],
      "source": [
        "system_prompt = \"\"\"\n",
        "You are an agent designed to interact with a SQL database.\n",
        "Given an input question, create a syntactically correct {dialect} query to run,\n",
        "then look at the results of the query and return the answer. Unless the user\n",
        "specifies a specific number of examples they wish to obtain, always limit your\n",
        "query to at most {top_k} results.\n",
        "\n",
        "You can order the results by a relevant column to return the most interesting\n",
        "examples in the database. Never query for all the columns from a specific table,\n",
        "only ask for the relevant columns given the question.\n",
        "\n",
        "You MUST double check your query before executing it. If you get an error while\n",
        "executing a query, rewrite the query and try again.\n",
        "\n",
        "DO NOT make any DML statements (INSERT, UPDATE, DELETE, DROP etc.) to the\n",
        "database.\n",
        "\n",
        "To start you should ALWAYS look at the tables in the database to see what you\n",
        "can query. Do NOT skip this step.\n",
        "\n",
        "Then you should query the schema of the most relevant tables.\n",
        "\"\"\"\n",
        "\n",
        "agent = create_react_agent(\n",
        "    llm,\n",
        "    tools,\n",
        "    prompt=system_prompt,\n",
        ")"
      ]
    },
    {
      "cell_type": "code",
      "execution_count": 18,
      "metadata": {
        "colab": {
          "base_uri": "https://localhost:8080/"
        },
        "id": "1akT_1rcfHyT",
        "outputId": "87daff5b-8e74-41ee-bd80-db166294f025"
      },
      "outputs": [
        {
          "name": "stdout",
          "output_type": "stream",
          "text": [
            "The users names are Ajay Babu and Pradeep Kumar.\n"
          ]
        }
      ],
      "source": [
        "question = \"List all the users names?\"\n",
        "\n",
        "result = agent.invoke({\"messages\": [{\"role\": \"user\", \"content\": question}]})\n",
        "print(result['messages'][-1].content)"
      ]
    }
  ],
  "metadata": {
    "colab": {
      "provenance": []
    },
    "kernelspec": {
      "display_name": "Python 3",
      "name": "python3"
    },
    "language_info": {
      "name": "python"
    }
  },
  "nbformat": 4,
  "nbformat_minor": 0
}
